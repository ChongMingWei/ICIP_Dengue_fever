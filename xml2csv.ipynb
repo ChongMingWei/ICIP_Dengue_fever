{
 "cells": [
  {
   "cell_type": "code",
   "execution_count": 1,
   "metadata": {},
   "outputs": [],
   "source": [
    "import xml.etree.ElementTree as ET\n",
    "import csv\n",
    "import glob #to get all file path in \"train_annotations\""
   ]
  },
  {
   "cell_type": "code",
   "execution_count": 2,
   "metadata": {},
   "outputs": [],
   "source": [
    "#get file name\n",
    "all_file = glob.glob(\"train_annotations/*.xml\")"
   ]
  },
  {
   "cell_type": "code",
   "execution_count": 3,
   "metadata": {},
   "outputs": [
    {
     "data": {
      "text/plain": [
       "2671"
      ]
     },
     "execution_count": 3,
     "metadata": {},
     "output_type": "execute_result"
    }
   ],
   "source": [
    "len(all_file)"
   ]
  },
  {
   "cell_type": "code",
   "execution_count": 4,
   "metadata": {},
   "outputs": [],
   "source": [
    "#construct attribute row\n",
    "csvfile = []\n",
    "attribute = ['file_name', 'width', 'height', 'depth', \n",
    "             'object_name','xmin', 'ymin', 'xmax', 'ymax']\n",
    "csvfile.append(attribute)"
   ]
  },
  {
   "cell_type": "code",
   "execution_count": 6,
   "metadata": {},
   "outputs": [],
   "source": [
    "\n",
    "for file in all_file:\n",
    "        \n",
    "    #parse xmlfile\n",
    "    tree = ET.parse(file)\n",
    "    root = tree.getroot()\n",
    "    #get file info\n",
    "    file_name = root.find('filename').text\n",
    "    width = int(root.find('size').find('width').text)\n",
    "    height = int(root.find('size').find('height').text)\n",
    "    depth = int(root.find('size').find('depth').text)\n",
    "    \n",
    "    if root.findall('object') :\n",
    "        for member in root.findall('object'):\n",
    "            tmp = []\n",
    "            tmp.append(file_name)\n",
    "            tmp.append(width)\n",
    "            tmp.append(height)\n",
    "            tmp.append(depth)\n",
    "            object_name = member.find('name').text\n",
    "            xmin = int(member.find('bndbox').find('xmin').text)\n",
    "            ymin = int(member.find('bndbox').find('ymin').text)\n",
    "            xmax = int(member.find('bndbox').find('xmax').text)\n",
    "            ymax = int(member.find('bndbox').find('ymax').text)\n",
    "            tmp.append(object_name)\n",
    "            tmp.append(xmin)\n",
    "            tmp.append(ymin)\n",
    "            tmp.append(xmax)\n",
    "            tmp.append(ymax)\n",
    "    else:\n",
    "        tmp = []\n",
    "        tmp.append(file_name)\n",
    "        tmp.append(width)\n",
    "        tmp.append(height)\n",
    "        tmp.append(depth)\n",
    "    csvfile.append(tmp)"
   ]
  },
  {
   "cell_type": "code",
   "execution_count": 7,
   "metadata": {},
   "outputs": [],
   "source": [
    "Resident_data = open('tmp.csv','w')\n",
    "with Resident_data:\n",
    "    csvwriter = csv.writer(Resident_data)\n",
    "    csvwriter.writerows(csvfile)"
   ]
  }
 ],
 "metadata": {
  "kernelspec": {
   "display_name": "Python 3",
   "language": "python",
   "name": "python3"
  },
  "language_info": {
   "codemirror_mode": {
    "name": "ipython",
    "version": 3
   },
   "file_extension": ".py",
   "mimetype": "text/x-python",
   "name": "python",
   "nbconvert_exporter": "python",
   "pygments_lexer": "ipython3",
   "version": "3.7.3"
  }
 },
 "nbformat": 4,
 "nbformat_minor": 2
}
