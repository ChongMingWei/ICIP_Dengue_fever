{
 "cells": [
  {
   "cell_type": "code",
   "execution_count": 1,
   "metadata": {},
   "outputs": [],
   "source": [
    "import json\n",
    "import csv\n",
    "import glob"
   ]
  },
  {
   "cell_type": "code",
   "execution_count": 2,
   "metadata": {},
   "outputs": [],
   "source": [
    "#get file name\n",
    "all_file = glob.glob(\"out/*.json\")"
   ]
  },
  {
   "cell_type": "code",
   "execution_count": 3,
   "metadata": {},
   "outputs": [],
   "source": [
    "#construct attribute row\n",
    "csvfile = []\n",
    "attribute = ['image_filename', 'label_id', 'x','y','w','h','confidence']\n",
    "csvfile.append(attribute)"
   ]
  },
  {
   "cell_type": "code",
   "execution_count": null,
   "metadata": {},
   "outputs": [],
   "source": [
    "with open('out/20090630.json') as json_file:  \n",
    "        file_parsed = json.loads(json_file.read())\n",
    "        if len(file_parsed) is 0 :\n",
    "            print(\"null\")\n",
    "        else:\n",
    "            for obj in file_parsed:\n",
    "                print(obj['topleft']['y'])"
   ]
  },
  {
   "cell_type": "code",
   "execution_count": 4,
   "metadata": {},
   "outputs": [],
   "source": [
    "def get_label_id(label):\n",
    "    ids = {\n",
    "        \"aquarium\":1, \"bottle\":2, \"bowl\":3, \"box\":4, \"bucket\":5,\n",
    "        \"plastic_bag\":6, \"plate\":7, \"styrofoam\":8, \"tire\":9,\n",
    "        \"toilet\":10, \"tub\":11, \"washing_machine\":12, \"water_tower\":13\n",
    "    }\n",
    "    return ids.get(label, None)"
   ]
  },
  {
   "cell_type": "code",
   "execution_count": 5,
   "metadata": {},
   "outputs": [
    {
     "name": "stdout",
     "output_type": "stream",
     "text": [
      "2248\n"
     ]
    }
   ],
   "source": [
    "i = 0\n",
    "for file in all_file:\n",
    "    tmpfilename = file.split('/');\n",
    "    filename = tmpfilename[1].split('.')[0]+\".jpg\"#'image_filename'\n",
    "    with open(file) as json_file:\n",
    "        i = i +1\n",
    "        file_parsed = json.loads(json_file.read())\n",
    "        if len(file_parsed) is 0 :\n",
    "            continue\n",
    "        else:\n",
    "            for obj in file_parsed:\n",
    "                tmpobj = []\n",
    "                label_id = get_label_id(obj['label'])\n",
    "                x = obj['topleft']['x']\n",
    "                y = obj['topleft']['y']\n",
    "                w = obj['bottomright']['x'] - obj['topleft']['x']\n",
    "                h = obj['bottomright']['y'] - obj['topleft']['y']\n",
    "                confidence = obj['confidence']\n",
    "                tmpobj.append(filename)\n",
    "                tmpobj.append(label_id)\n",
    "                tmpobj.append(x)\n",
    "                tmpobj.append(y)\n",
    "                tmpobj.append(w)\n",
    "                tmpobj.append(h)\n",
    "                tmpobj.append(confidence)\n",
    "                csvfile.append(tmpobj)\n",
    "                \n",
    "print(i)                "
   ]
  },
  {
   "cell_type": "code",
   "execution_count": 6,
   "metadata": {},
   "outputs": [],
   "source": [
    "Resident_data = open('submission.csv','w')\n",
    "with Resident_data:\n",
    "    csvwriter = csv.writer(Resident_data)\n",
    "    csvwriter.writerows(csvfile)"
   ]
  },
  {
   "cell_type": "code",
   "execution_count": 8,
   "metadata": {},
   "outputs": [
    {
     "data": {
      "text/plain": [
       "(2132, 7)"
      ]
     },
     "execution_count": 8,
     "metadata": {},
     "output_type": "execute_result"
    }
   ],
   "source": [
    "import pandas as pd\n",
    "\n",
    "train_data = pd.read_csv('submission.csv',sep = ',')\n",
    "train_data.shape"
   ]
  },
  {
   "cell_type": "code",
   "execution_count": 10,
   "metadata": {},
   "outputs": [
    {
     "data": {
      "text/html": [
       "<div>\n",
       "<style scoped>\n",
       "    .dataframe tbody tr th:only-of-type {\n",
       "        vertical-align: middle;\n",
       "    }\n",
       "\n",
       "    .dataframe tbody tr th {\n",
       "        vertical-align: top;\n",
       "    }\n",
       "\n",
       "    .dataframe thead th {\n",
       "        text-align: right;\n",
       "    }\n",
       "</style>\n",
       "<table border=\"1\" class=\"dataframe\">\n",
       "  <thead>\n",
       "    <tr style=\"text-align: right;\">\n",
       "      <th></th>\n",
       "      <th>image_filename</th>\n",
       "      <th>label_id</th>\n",
       "      <th>x</th>\n",
       "      <th>y</th>\n",
       "      <th>w</th>\n",
       "      <th>h</th>\n",
       "      <th>confidence</th>\n",
       "    </tr>\n",
       "  </thead>\n",
       "  <tbody>\n",
       "    <tr>\n",
       "      <th>0</th>\n",
       "      <td>200801213.jpg</td>\n",
       "      <td>5</td>\n",
       "      <td>450</td>\n",
       "      <td>319</td>\n",
       "      <td>154</td>\n",
       "      <td>230</td>\n",
       "      <td>0.93</td>\n",
       "    </tr>\n",
       "    <tr>\n",
       "      <th>1</th>\n",
       "      <td>200801221.jpg</td>\n",
       "      <td>13</td>\n",
       "      <td>25</td>\n",
       "      <td>112</td>\n",
       "      <td>112</td>\n",
       "      <td>101</td>\n",
       "      <td>0.67</td>\n",
       "    </tr>\n",
       "    <tr>\n",
       "      <th>2</th>\n",
       "      <td>20080123.jpg</td>\n",
       "      <td>5</td>\n",
       "      <td>265</td>\n",
       "      <td>181</td>\n",
       "      <td>246</td>\n",
       "      <td>288</td>\n",
       "      <td>0.85</td>\n",
       "    </tr>\n",
       "    <tr>\n",
       "      <th>3</th>\n",
       "      <td>200801241.jpg</td>\n",
       "      <td>5</td>\n",
       "      <td>20</td>\n",
       "      <td>3</td>\n",
       "      <td>154</td>\n",
       "      <td>236</td>\n",
       "      <td>0.95</td>\n",
       "    </tr>\n",
       "    <tr>\n",
       "      <th>4</th>\n",
       "      <td>200801241.jpg</td>\n",
       "      <td>5</td>\n",
       "      <td>131</td>\n",
       "      <td>58</td>\n",
       "      <td>139</td>\n",
       "      <td>164</td>\n",
       "      <td>0.89</td>\n",
       "    </tr>\n",
       "  </tbody>\n",
       "</table>\n",
       "</div>"
      ],
      "text/plain": [
       "  image_filename  label_id    x    y    w    h  confidence\n",
       "0  200801213.jpg         5  450  319  154  230        0.93\n",
       "1  200801221.jpg        13   25  112  112  101        0.67\n",
       "2   20080123.jpg         5  265  181  246  288        0.85\n",
       "3  200801241.jpg         5   20    3  154  236        0.95\n",
       "4  200801241.jpg         5  131   58  139  164        0.89"
      ]
     },
     "execution_count": 10,
     "metadata": {},
     "output_type": "execute_result"
    }
   ],
   "source": [
    "# checking the head of the data\n",
    "\n",
    "train_data.head()"
   ]
  },
  {
   "cell_type": "code",
   "execution_count": 11,
   "metadata": {},
   "outputs": [
    {
     "data": {
      "text/plain": [
       "image_filename    0\n",
       "label_id          0\n",
       "x                 0\n",
       "y                 0\n",
       "w                 0\n",
       "h                 0\n",
       "confidence        0\n",
       "dtype: int64"
      ]
     },
     "execution_count": 11,
     "metadata": {},
     "output_type": "execute_result"
    }
   ],
   "source": [
    "#checking the NA values\n",
    "train_data.isna().sum()"
   ]
  },
  {
   "cell_type": "code",
   "execution_count": 12,
   "metadata": {},
   "outputs": [
    {
     "data": {
      "text/plain": [
       "image_filename    0\n",
       "label_id          0\n",
       "x                 0\n",
       "y                 0\n",
       "w                 0\n",
       "h                 0\n",
       "confidence        0\n",
       "dtype: int64"
      ]
     },
     "execution_count": 12,
     "metadata": {},
     "output_type": "execute_result"
    }
   ],
   "source": [
    "#checking the Null values in the dataset\n",
    "train_data.isnull().sum()"
   ]
  },
  {
   "cell_type": "code",
   "execution_count": null,
   "metadata": {},
   "outputs": [],
   "source": []
  }
 ],
 "metadata": {
  "kernelspec": {
   "display_name": "Python 3",
   "language": "python",
   "name": "python3"
  },
  "language_info": {
   "codemirror_mode": {
    "name": "ipython",
    "version": 3
   },
   "file_extension": ".py",
   "mimetype": "text/x-python",
   "name": "python",
   "nbconvert_exporter": "python",
   "pygments_lexer": "ipython3",
   "version": "3.5.2"
  }
 },
 "nbformat": 4,
 "nbformat_minor": 2
}
