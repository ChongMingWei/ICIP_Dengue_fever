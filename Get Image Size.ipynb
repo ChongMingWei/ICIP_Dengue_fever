{
 "cells": [
  {
   "cell_type": "code",
   "execution_count": 1,
   "metadata": {},
   "outputs": [],
   "source": [
    "from PIL import Image\n",
    "import csv\n",
    "import glob #to get all file path in \"train_annotations\""
   ]
  },
  {
   "cell_type": "code",
   "execution_count": 2,
   "metadata": {},
   "outputs": [],
   "source": [
    "#get file name\n",
    "all_file = glob.glob(\"train_images/*.jpg\")"
   ]
  },
  {
   "cell_type": "code",
   "execution_count": 3,
   "metadata": {},
   "outputs": [],
   "source": [
    "#construct attribute row\n",
    "csvfile = []\n",
    "attribute = ['filename', 'width', 'height','w*h']\n",
    "csvfile.append(attribute)"
   ]
  },
  {
   "cell_type": "code",
   "execution_count": 4,
   "metadata": {},
   "outputs": [],
   "source": [
    "for file in all_file:\n",
    "    tmp = []\n",
    "    im = Image.open(file)\n",
    "    width, height = im.size\n",
    "    tmp.append(file.split('/')[1])\n",
    "    tmp.append(width)\n",
    "    tmp.append(height)\n",
    "    tmp.append(width*height)\n",
    "    csvfile.append(tmp)\n",
    "               "
   ]
  },
  {
   "cell_type": "code",
   "execution_count": 5,
   "metadata": {},
   "outputs": [],
   "source": [
    "Resident_data = open('imagesize.csv','w')\n",
    "with Resident_data:\n",
    "    csvwriter = csv.writer(Resident_data)\n",
    "    csvwriter.writerows(csvfile)"
   ]
  },
  {
   "cell_type": "code",
   "execution_count": 6,
   "metadata": {},
   "outputs": [
    {
     "data": {
      "text/plain": [
       "(2671, 4)"
      ]
     },
     "execution_count": 6,
     "metadata": {},
     "output_type": "execute_result"
    }
   ],
   "source": [
    "import pandas as pd\n",
    "\n",
    "train_data = pd.read_csv('imagesize.csv',sep = ',')\n",
    "train_data.shape\n"
   ]
  },
  {
   "cell_type": "code",
   "execution_count": 10,
   "metadata": {},
   "outputs": [
    {
     "data": {
      "text/plain": [
       "120000    2091\n",
       "307200     161\n",
       "480000     145\n",
       "106800      41\n",
       "120400      40\n",
       "90000       32\n",
       "76800       24\n",
       "119600      21\n",
       "230400       9\n",
       "273920       8\n",
       "43200        7\n",
       "73790        6\n",
       "125870       5\n",
       "172800       5\n",
       "67500        4\n",
       "59291        4\n",
       "426400       3\n",
       "307840       3\n",
       "46872        3\n",
       "96302        3\n",
       "70610        3\n",
       "53400        3\n",
       "475200       3\n",
       "118800       3\n",
       "129600       2\n",
       "209088       2\n",
       "290941       2\n",
       "388800       2\n",
       "150528       1\n",
       "46250        1\n",
       "          ... \n",
       "305920       1\n",
       "52735        1\n",
       "304803       1\n",
       "104000       1\n",
       "81840        1\n",
       "46750        1\n",
       "73377        1\n",
       "79870        1\n",
       "75978        1\n",
       "69845        1\n",
       "43318        1\n",
       "27648        1\n",
       "391560       1\n",
       "395820       1\n",
       "427200       1\n",
       "74560        1\n",
       "174944       1\n",
       "93192        1\n",
       "60480        1\n",
       "482400       1\n",
       "81184        1\n",
       "95600        1\n",
       "50500        1\n",
       "480800       1\n",
       "30000        1\n",
       "119200       1\n",
       "100925       1\n",
       "414400       1\n",
       "83250        1\n",
       "295630       1\n",
       "Name: w*h, Length: 64, dtype: int64"
      ]
     },
     "execution_count": 10,
     "metadata": {},
     "output_type": "execute_result"
    }
   ],
   "source": [
    "train_data['w*h'].value_counts().sort_values(ascending=False)"
   ]
  },
  {
   "cell_type": "code",
   "execution_count": null,
   "metadata": {},
   "outputs": [],
   "source": []
  }
 ],
 "metadata": {
  "kernelspec": {
   "display_name": "Python 3",
   "language": "python",
   "name": "python3"
  },
  "language_info": {
   "codemirror_mode": {
    "name": "ipython",
    "version": 3
   },
   "file_extension": ".py",
   "mimetype": "text/x-python",
   "name": "python",
   "nbconvert_exporter": "python",
   "pygments_lexer": "ipython3",
   "version": "3.5.2"
  }
 },
 "nbformat": 4,
 "nbformat_minor": 2
}
