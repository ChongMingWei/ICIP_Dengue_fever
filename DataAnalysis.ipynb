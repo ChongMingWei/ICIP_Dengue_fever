{
 "cells": [
  {
   "cell_type": "code",
   "execution_count": 1,
   "metadata": {},
   "outputs": [],
   "source": [
    "import matplotlib.pyplot as plt\n",
    "import seaborn as sns\n",
    "import numpy as np\n",
    "import pandas as pd"
   ]
  },
  {
   "cell_type": "code",
   "execution_count": 2,
   "metadata": {},
   "outputs": [],
   "source": [
    "train_data = pd.read_csv('tmp.csv',sep = ',')"
   ]
  },
  {
   "cell_type": "code",
   "execution_count": 3,
   "metadata": {},
   "outputs": [
    {
     "data": {
      "text/plain": [
       "(2671, 9)"
      ]
     },
     "execution_count": 3,
     "metadata": {},
     "output_type": "execute_result"
    }
   ],
   "source": [
    "# checking the shape of the data(row, column)\n",
    "train_data.shape"
   ]
  },
  {
   "cell_type": "code",
   "execution_count": 4,
   "metadata": {},
   "outputs": [
    {
     "data": {
      "text/html": [
       "<div>\n",
       "<style scoped>\n",
       "    .dataframe tbody tr th:only-of-type {\n",
       "        vertical-align: middle;\n",
       "    }\n",
       "\n",
       "    .dataframe tbody tr th {\n",
       "        vertical-align: top;\n",
       "    }\n",
       "\n",
       "    .dataframe thead th {\n",
       "        text-align: right;\n",
       "    }\n",
       "</style>\n",
       "<table border=\"1\" class=\"dataframe\">\n",
       "  <thead>\n",
       "    <tr style=\"text-align: right;\">\n",
       "      <th></th>\n",
       "      <th>file_name</th>\n",
       "      <th>width</th>\n",
       "      <th>height</th>\n",
       "      <th>depth</th>\n",
       "      <th>object_name</th>\n",
       "      <th>xmin</th>\n",
       "      <th>ymin</th>\n",
       "      <th>xmax</th>\n",
       "      <th>ymax</th>\n",
       "    </tr>\n",
       "  </thead>\n",
       "  <tbody>\n",
       "    <tr>\n",
       "      <th>0</th>\n",
       "      <td>200801095.jpg</td>\n",
       "      <td>800</td>\n",
       "      <td>600</td>\n",
       "      <td>3</td>\n",
       "      <td>plastic_bag</td>\n",
       "      <td>22.0</td>\n",
       "      <td>422.0</td>\n",
       "      <td>210.0</td>\n",
       "      <td>550.0</td>\n",
       "    </tr>\n",
       "    <tr>\n",
       "      <th>1</th>\n",
       "      <td>200801097.jpg</td>\n",
       "      <td>800</td>\n",
       "      <td>600</td>\n",
       "      <td>3</td>\n",
       "      <td>plastic_bag</td>\n",
       "      <td>177.0</td>\n",
       "      <td>112.0</td>\n",
       "      <td>409.0</td>\n",
       "      <td>600.0</td>\n",
       "    </tr>\n",
       "    <tr>\n",
       "      <th>2</th>\n",
       "      <td>200801099.jpg</td>\n",
       "      <td>320</td>\n",
       "      <td>240</td>\n",
       "      <td>3</td>\n",
       "      <td>bucket</td>\n",
       "      <td>209.0</td>\n",
       "      <td>170.0</td>\n",
       "      <td>320.0</td>\n",
       "      <td>238.0</td>\n",
       "    </tr>\n",
       "    <tr>\n",
       "      <th>3</th>\n",
       "      <td>20080110.jpg</td>\n",
       "      <td>320</td>\n",
       "      <td>240</td>\n",
       "      <td>3</td>\n",
       "      <td>box</td>\n",
       "      <td>164.0</td>\n",
       "      <td>140.0</td>\n",
       "      <td>291.0</td>\n",
       "      <td>223.0</td>\n",
       "    </tr>\n",
       "    <tr>\n",
       "      <th>4</th>\n",
       "      <td>20080124.jpg</td>\n",
       "      <td>800</td>\n",
       "      <td>600</td>\n",
       "      <td>3</td>\n",
       "      <td>styrofoam</td>\n",
       "      <td>438.0</td>\n",
       "      <td>1.0</td>\n",
       "      <td>800.0</td>\n",
       "      <td>423.0</td>\n",
       "    </tr>\n",
       "  </tbody>\n",
       "</table>\n",
       "</div>"
      ],
      "text/plain": [
       "       file_name  width  height  depth  object_name   xmin   ymin   xmax  \\\n",
       "0  200801095.jpg    800     600      3  plastic_bag   22.0  422.0  210.0   \n",
       "1  200801097.jpg    800     600      3  plastic_bag  177.0  112.0  409.0   \n",
       "2  200801099.jpg    320     240      3       bucket  209.0  170.0  320.0   \n",
       "3   20080110.jpg    320     240      3          box  164.0  140.0  291.0   \n",
       "4   20080124.jpg    800     600      3    styrofoam  438.0    1.0  800.0   \n",
       "\n",
       "    ymax  \n",
       "0  550.0  \n",
       "1  600.0  \n",
       "2  238.0  \n",
       "3  223.0  \n",
       "4  423.0  "
      ]
     },
     "execution_count": 4,
     "metadata": {},
     "output_type": "execute_result"
    }
   ],
   "source": [
    "# checking the head of the data\n",
    "\n",
    "train_data.head()"
   ]
  },
  {
   "cell_type": "code",
   "execution_count": 5,
   "metadata": {},
   "outputs": [
    {
     "name": "stdout",
     "output_type": "stream",
     "text": [
      "['bucket', 'bowl', 'plastic_bag', 'tire', 'box', 'bottle', 'styrofoam', 'plate', 'water_tower', 'tub', 'toilet', 'aquarium', 'washing_machine']\n"
     ]
    }
   ],
   "source": [
    "objkey = train_data['object_name'].value_counts().keys().tolist()\n",
    "print(objkey)"
   ]
  },
  {
   "cell_type": "code",
   "execution_count": 6,
   "metadata": {},
   "outputs": [],
   "source": [
    "transformation_obj = {\n",
    "    \"aquarium\":1,\"bottle\":2,\"bowl\":3,\"box\":4,\"bucket\":5,\n",
    "    \"plastic_bag\":6,\"plate\":7,\"styrofoam\":8,\"tire\":9,\n",
    "    \"toilet\":10,\"tub\":11,\"washing_machine\":12,\"water_tower\":13,\n",
    "}\n",
    "train_data['object_name'] = train_data['object_name'].map(transformation_obj)"
   ]
  },
  {
   "cell_type": "code",
   "execution_count": 7,
   "metadata": {},
   "outputs": [
    {
     "data": {
      "text/plain": [
       "file_name       0\n",
       "width           0\n",
       "height          0\n",
       "depth           0\n",
       "object_name    11\n",
       "xmin           11\n",
       "ymin           11\n",
       "xmax           11\n",
       "ymax           11\n",
       "dtype: int64"
      ]
     },
     "execution_count": 7,
     "metadata": {},
     "output_type": "execute_result"
    }
   ],
   "source": [
    "#checking the NA values\n",
    "train_data.isna().sum()"
   ]
  },
  {
   "cell_type": "code",
   "execution_count": 8,
   "metadata": {},
   "outputs": [
    {
     "data": {
      "text/plain": [
       "file_name       0\n",
       "width           0\n",
       "height          0\n",
       "depth           0\n",
       "object_name    11\n",
       "xmin           11\n",
       "ymin           11\n",
       "xmax           11\n",
       "ymax           11\n",
       "dtype: int64"
      ]
     },
     "execution_count": 8,
     "metadata": {},
     "output_type": "execute_result"
    }
   ],
   "source": [
    "#checking the Null values in the dataset\n",
    "train_data.isnull().sum()"
   ]
  },
  {
   "cell_type": "code",
   "execution_count": 9,
   "metadata": {},
   "outputs": [
    {
     "data": {
      "text/html": [
       "<div>\n",
       "<style scoped>\n",
       "    .dataframe tbody tr th:only-of-type {\n",
       "        vertical-align: middle;\n",
       "    }\n",
       "\n",
       "    .dataframe tbody tr th {\n",
       "        vertical-align: top;\n",
       "    }\n",
       "\n",
       "    .dataframe thead th {\n",
       "        text-align: right;\n",
       "    }\n",
       "</style>\n",
       "<table border=\"1\" class=\"dataframe\">\n",
       "  <thead>\n",
       "    <tr style=\"text-align: right;\">\n",
       "      <th></th>\n",
       "      <th>file_name</th>\n",
       "      <th>width</th>\n",
       "      <th>height</th>\n",
       "      <th>depth</th>\n",
       "      <th>object_name</th>\n",
       "      <th>xmin</th>\n",
       "      <th>ymin</th>\n",
       "      <th>xmax</th>\n",
       "      <th>ymax</th>\n",
       "    </tr>\n",
       "  </thead>\n",
       "  <tbody>\n",
       "    <tr>\n",
       "      <th>0</th>\n",
       "      <td>200801095.jpg</td>\n",
       "      <td>800</td>\n",
       "      <td>600</td>\n",
       "      <td>3</td>\n",
       "      <td>6.0</td>\n",
       "      <td>22.0</td>\n",
       "      <td>422.0</td>\n",
       "      <td>210.0</td>\n",
       "      <td>550.0</td>\n",
       "    </tr>\n",
       "    <tr>\n",
       "      <th>1</th>\n",
       "      <td>200801097.jpg</td>\n",
       "      <td>800</td>\n",
       "      <td>600</td>\n",
       "      <td>3</td>\n",
       "      <td>6.0</td>\n",
       "      <td>177.0</td>\n",
       "      <td>112.0</td>\n",
       "      <td>409.0</td>\n",
       "      <td>600.0</td>\n",
       "    </tr>\n",
       "    <tr>\n",
       "      <th>2</th>\n",
       "      <td>200801099.jpg</td>\n",
       "      <td>320</td>\n",
       "      <td>240</td>\n",
       "      <td>3</td>\n",
       "      <td>5.0</td>\n",
       "      <td>209.0</td>\n",
       "      <td>170.0</td>\n",
       "      <td>320.0</td>\n",
       "      <td>238.0</td>\n",
       "    </tr>\n",
       "    <tr>\n",
       "      <th>3</th>\n",
       "      <td>20080110.jpg</td>\n",
       "      <td>320</td>\n",
       "      <td>240</td>\n",
       "      <td>3</td>\n",
       "      <td>4.0</td>\n",
       "      <td>164.0</td>\n",
       "      <td>140.0</td>\n",
       "      <td>291.0</td>\n",
       "      <td>223.0</td>\n",
       "    </tr>\n",
       "    <tr>\n",
       "      <th>4</th>\n",
       "      <td>20080124.jpg</td>\n",
       "      <td>800</td>\n",
       "      <td>600</td>\n",
       "      <td>3</td>\n",
       "      <td>8.0</td>\n",
       "      <td>438.0</td>\n",
       "      <td>1.0</td>\n",
       "      <td>800.0</td>\n",
       "      <td>423.0</td>\n",
       "    </tr>\n",
       "  </tbody>\n",
       "</table>\n",
       "</div>"
      ],
      "text/plain": [
       "       file_name  width  height  depth  object_name   xmin   ymin   xmax  \\\n",
       "0  200801095.jpg    800     600      3          6.0   22.0  422.0  210.0   \n",
       "1  200801097.jpg    800     600      3          6.0  177.0  112.0  409.0   \n",
       "2  200801099.jpg    320     240      3          5.0  209.0  170.0  320.0   \n",
       "3   20080110.jpg    320     240      3          4.0  164.0  140.0  291.0   \n",
       "4   20080124.jpg    800     600      3          8.0  438.0    1.0  800.0   \n",
       "\n",
       "    ymax  \n",
       "0  550.0  \n",
       "1  600.0  \n",
       "2  238.0  \n",
       "3  223.0  \n",
       "4  423.0  "
      ]
     },
     "execution_count": 9,
     "metadata": {},
     "output_type": "execute_result"
    }
   ],
   "source": [
    "# checking the head of the data after changing 'object_name' \n",
    "\n",
    "train_data.head()"
   ]
  },
  {
   "cell_type": "code",
   "execution_count": null,
   "metadata": {},
   "outputs": [],
   "source": []
  }
 ],
 "metadata": {
  "kernelspec": {
   "display_name": "Python 3",
   "language": "python",
   "name": "python3"
  },
  "language_info": {
   "codemirror_mode": {
    "name": "ipython",
    "version": 3
   },
   "file_extension": ".py",
   "mimetype": "text/x-python",
   "name": "python",
   "nbconvert_exporter": "python",
   "pygments_lexer": "ipython3",
   "version": "3.5.2"
  }
 },
 "nbformat": 4,
 "nbformat_minor": 2
}
